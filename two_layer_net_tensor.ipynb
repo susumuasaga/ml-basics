{
 "cells": [
  {
   "cell_type": "code",
   "execution_count": 1,
   "metadata": {
    "collapsed": false
   },
   "outputs": [],
   "source": [
    "import torch\n",
    "\n",
    "%matplotlib inline"
   ]
  },
  {
   "cell_type": "markdown",
   "metadata": {},
   "source": [
    "\n",
    "PyTorch: Tensors\n",
    "----------------\n",
    "\n",
    "A fully-connected ReLU network with one hidden layer and no biases, trained to\n",
    "predict y from x by minimizing squared Euclidean distance.\n",
    "\n",
    "This implementation uses PyTorch tensors to manually compute the forward pass,\n",
    "loss, and backward pass.\n",
    "\n",
    "A PyTorch Tensor is basically the same as a numpy array: it does not know\n",
    "anything about deep learning or computational graphs or gradients, and is just\n",
    "a generic n-dimensional array to be used for arbitrary numeric computation.\n",
    "\n",
    "The biggest difference between a numpy array and a PyTorch Tensor is that\n",
    "a PyTorch Tensor can run on either CPU or GPU. To run operations on the GPU,\n",
    "just cast the Tensor to a cuda datatype.\n",
    "\n"
   ]
  },
  {
   "cell_type": "code",
   "execution_count": 4,
   "metadata": {
    "collapsed": false
   },
   "outputs": [
    {
     "name": "stdout",
     "output_type": "stream",
     "text": [
      "99 319.54148111912474\n",
      "199 0.3009464126308803\n",
      "299 0.0005473018929883877\n",
      "399 1.249484050664042e-06\n",
      "499 2.8069466792371197e-09\n"
     ]
    }
   ],
   "source": [
    "dtype = torch.double\n",
    "device = torch.device(\"cpu\")\n",
    "# device = torch.device(\"cuda:0\") # Uncomment this to run on GPU\n",
    "\n",
    "ZERO = torch.tensor([0.0], dtype=dtype)\n",
    "\n",
    "# N is batch size; D_in is input dimension;\n",
    "# H is hidden dimension; D_out is output dimension.\n",
    "N = 64\n",
    "D_in = 1000\n",
    "H = 100\n",
    "D_out = 10\n",
    "\n",
    "x = torch.randn(N, D_in, device=device, dtype=dtype)\n",
    "y = torch.randn(N, D_out, device=device, dtype=dtype)\n",
    "\n",
    "w1 = torch.randn(D_in, H, device=device, dtype=dtype)\n",
    "w2 = torch.randn(H, D_out, device=device, dtype=dtype)\n",
    "\n",
    "learning_rate = 1e-6\n",
    "for t in range(500):\n",
    "    h = torch.mm(x, w1)\n",
    "    h_relu = torch.where(h > 0, h, ZERO)\n",
    "    y_pred = torch.mm(h, w2)\n",
    "\n",
    "    loss = torch.sum(torch.square(y_pred - y)).item()\n",
    "    if t % 100 == 99:\n",
    "        print(t, loss)\n",
    "\n",
    "    grad_loss_y = 2.0 * (y_pred - y)\n",
    "    grad_loss_w2 = torch.mm(torch.t(h_relu), grad_loss_y)\n",
    "    grad_loss_h = torch.where(\n",
    "        h > 0, torch.mm(grad_loss_y, torch.t(w2)), ZERO\n",
    "    )\n",
    "    grad_loss_w1 = torch.mm(torch.t(x), grad_loss_h)\n",
    "\n",
    "    w1 -= learning_rate * grad_loss_w1\n",
    "    w2 -= learning_rate * grad_loss_w2"
   ]
  },
  {
   "cell_type": "code",
   "execution_count": null,
   "outputs": [],
   "source": [],
   "metadata": {
    "collapsed": false,
    "pycharm": {
     "name": "#%%\n"
    }
   }
  }
 ],
 "metadata": {
  "kernelspec": {
   "display_name": "Python 3",
   "language": "python",
   "name": "python3"
  },
  "language_info": {
   "codemirror_mode": {
    "name": "ipython",
    "version": 3
   },
   "file_extension": ".py",
   "mimetype": "text/x-python",
   "name": "python",
   "nbconvert_exporter": "python",
   "pygments_lexer": "ipython3",
   "version": "3.6.8"
  }
 },
 "nbformat": 4,
 "nbformat_minor": 0
}