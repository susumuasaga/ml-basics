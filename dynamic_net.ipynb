{
 "cells": [
  {
   "cell_type": "code",
   "execution_count": 1,
   "metadata": {
    "collapsed": false
   },
   "outputs": [],
   "source": [
    "import random\n",
    "import torch\n",
    "\n",
    "%matplotlib inline"
   ]
  },
  {
   "cell_type": "markdown",
   "metadata": {},
   "source": [
    "\n",
    "PyTorch: Control Flow + Weight Sharing\n",
    "--------------------------------------\n",
    "\n",
    "To showcase the power of PyTorch dynamic graphs, we will implement a very strange\n",
    "model: a fully-connected ReLU network that on each forward pass randomly chooses\n",
    "a number between 1 and 4 and has that many hidden layers, reusing the same\n",
    "weights multiple times to compute the innermost hidden layers.\n",
    "\n"
   ]
  },
  {
   "cell_type": "code",
   "execution_count": 2,
   "metadata": {
    "collapsed": false
   },
   "outputs": [],
   "source": [
    "class DynamicNet(torch.nn.Module):\n",
    "    def _forward_unimplemented(self, *input)-> None:\n",
    "        raise NotImplemented(\"forward_unimplemented\")\n",
    "\n",
    "    def __init__(self, d_in, h, d_out):\n",
    "        \"\"\"\n",
    "        In the constructor we construct three nn.Linear instances\n",
    "        that we will use in the forward pass.\n",
    "        d_in: dimension of input\n",
    "        h: dimension of hidden\n",
    "        d_out: dimension of output\n",
    "        \"\"\"\n",
    "        super().__init__()\n",
    "        self.input_linear = torch.nn.Linear(d_in, h)\n",
    "        self.middle_linear = torch.nn.Linear(h, h)\n",
    "        self.output_linear = torch.nn.Linear(h, d_out)\n",
    "\n",
    "    def forward(self, x):\n",
    "        \"\"\"\n",
    "        For the forward pass of the model,\n",
    "        we randomly choose either 0, 1, 2, or 3\n",
    "        and reuse the middle_linear Module\n",
    "        that many times to compute hidden layer representations.\n",
    "\n",
    "        Since each forward pass builds a dynamic computation graph,\n",
    "        we can use normal Python control-flow operators\n",
    "        like loops or conditional statements\n",
    "        when defining the forward pass of the model.\n",
    "\n",
    "        Here we also see that it is perfectly safe\n",
    "        to reuse the same Module many times\n",
    "        when defining a computational graph.\n",
    "        This is a big improvement from Lua Torch,\n",
    "        where each Module could be used only once.\n",
    "        \"\"\"\n",
    "        h_relu = torch.clamp(self.input_linear(x), min=0)\n",
    "        for _ in range(random.randint(0, 3)):\n",
    "            h_relu = torch.clamp(self.middle_linear(h_relu), min=0)\n",
    "        y_pred = self.output_linear(h_relu)\n",
    "        return y_pred"
   ]
  },
  {
   "cell_type": "code",
   "execution_count": 3,
   "outputs": [
    {
     "name": "stdout",
     "output_type": "stream",
     "text": [
      "0 0.9826545715332031\n",
      "100 0.016170386224985123\n",
      "200 0.0018488296773284674\n",
      "300 0.0009112719562835991\n",
      "400 0.07059653103351593\n",
      "500 0.0008878077496774495\n"
     ]
    }
   ],
   "source": [
    "# N is batch size; D_in is input dimension;\n",
    "# H is hidden dimension; D_out is output dimension.\n",
    "N = 64\n",
    "D_in = 1000\n",
    "H = 100\n",
    "D_out = 10\n",
    "\n",
    "x = torch.randn(N, D_in)\n",
    "y = torch.randn(N, D_out)\n",
    "\n",
    "model = DynamicNet(D_in, H, D_out)\n",
    "\n",
    "criterion = torch.nn.MSELoss()\n",
    "optimizer = torch.optim.SGD(model.parameters(), 0.1, momentum=0.9)\n",
    "for t in range(501):\n",
    "    y_pred = model(x)\n",
    "\n",
    "    loss = criterion(y_pred, y)\n",
    "    if t % 100 == 0:\n",
    "        print(t, loss.item())\n",
    "\n",
    "    optimizer.zero_grad()\n",
    "    loss.backward()\n",
    "    optimizer.step()"
   ],
   "metadata": {
    "collapsed": false,
    "pycharm": {
     "name": "#%%\n"
    }
   }
  },
  {
   "cell_type": "code",
   "execution_count": null,
   "outputs": [],
   "source": [],
   "metadata": {
    "collapsed": false,
    "pycharm": {
     "name": "#%%\n"
    }
   }
  }
 ],
 "metadata": {
  "kernelspec": {
   "display_name": "Python 3",
   "language": "python",
   "name": "python3"
  },
  "language_info": {
   "codemirror_mode": {
    "name": "ipython",
    "version": 3
   },
   "file_extension": ".py",
   "mimetype": "text/x-python",
   "name": "python",
   "nbconvert_exporter": "python",
   "pygments_lexer": "ipython3",
   "version": "3.6.8"
  }
 },
 "nbformat": 4,
 "nbformat_minor": 0
}