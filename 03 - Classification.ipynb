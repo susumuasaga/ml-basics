{
 "cells": [
  {
   "metadata": {},
   "cell_type": "markdown",
   "source": [
    "# Classification\n",
    "\n",
    "*Supervised* machine learning techniques involve training a model to operate on a set of *features* and predict a *label* using a dataset that includes some already-known label values. You can think of this function like this, in which ***y*** represents the label we want to predict and ***X*** represents the vector of features the model uses to predict it.\n",
    "\n",
    "$$y = f([x_1, x_2, x_3, ...])$$\n",
    "\n",
    "\n",
    "*Classification* is a form of supervised machine learning in which you train a model to use the features (the ***x*** values in our function) to predict a label (***y***) that calculates the probability of the observed case belonging to each of a number of possible classes, and predicting an appropriate label. The simplest form of classification is *binary* classification, in which the label is 0 or 1, representing one of two classes; for example, \"True\" or \"False\"; \"Internal\" or \"External\"; \"Profitable\" or \"Non-Profitable\"; and so on. "
   ]
  },
  {
   "metadata": {},
   "cell_type": "markdown",
   "source": [
    "## Binary Classification\n",
    "\n",
    "Let's start by looking at an example of *binary classification*, where the model must predict a label that belongs to one of two classes. In this exercise, we'll train a binary classifier to predict whether or not a patient should be tested for diabetes based on some medical data.\n",
    "\n",
    "### Explore the data\n",
    "\n",
    "Run the following cell to load a CSV file of patent data into a **Pandas** dataframe:\n",
    "\n",
    "> **Citation**: The diabetes dataset used in this exercise is based on data originally collected by the National Institute of Diabetes and Digestive and Kidney Diseases."
   ]
  },
  {
   "metadata": {
    "scrolled": false,
    "trusted": true
   },
   "cell_type": "code",
   "source": [
    "import pandas as pd\n",
    "import matplotlib.pyplot as plt\n",
    "from sklearn.svm import SVC\n",
    "%matplotlib inline\n",
    "from sklearn import model_selection, metrics\n",
    "from sklearn.linear_model import LogisticRegression\n",
    "from sklearn.compose import ColumnTransformer\n",
    "from sklearn.pipeline import Pipeline\n",
    "from sklearn.preprocessing import StandardScaler, OneHotEncoder\n",
    "from sklearn.ensemble import RandomForestClassifier\n",
    "import joblib\n",
    "import numpy as np"
   ],
   "execution_count": 50,
   "outputs": []
  },
  {
   "cell_type": "code",
   "execution_count": 2,
   "outputs": [
    {
     "data": {
      "text/plain": "   PatientID  Pregnancies  PlasmaGlucose  DiastolicBloodPressure  \\\n0    1354778            0            171                      80   \n1    1147438            8             92                      93   \n2    1640031            7            115                      47   \n3    1883350            9            103                      78   \n4    1424119            1             85                      59   \n\n   TricepsThickness  SerumInsulin        BMI  DiabetesPedigree  Age  Diabetic  \n0                34            23  43.509726          1.213191   21         0  \n1                47            36  21.240576          0.158365   23         0  \n2                52            35  41.511523          0.079019   23         0  \n3                25           304  29.582192          1.282870   43         1  \n4                27            35  42.604536          0.549542   22         0  ",
      "text/html": "<div>\n<style scoped>\n    .dataframe tbody tr th:only-of-type {\n        vertical-align: middle;\n    }\n\n    .dataframe tbody tr th {\n        vertical-align: top;\n    }\n\n    .dataframe thead th {\n        text-align: right;\n    }\n</style>\n<table border=\"1\" class=\"dataframe\">\n  <thead>\n    <tr style=\"text-align: right;\">\n      <th></th>\n      <th>PatientID</th>\n      <th>Pregnancies</th>\n      <th>PlasmaGlucose</th>\n      <th>DiastolicBloodPressure</th>\n      <th>TricepsThickness</th>\n      <th>SerumInsulin</th>\n      <th>BMI</th>\n      <th>DiabetesPedigree</th>\n      <th>Age</th>\n      <th>Diabetic</th>\n    </tr>\n  </thead>\n  <tbody>\n    <tr>\n      <th>0</th>\n      <td>1354778</td>\n      <td>0</td>\n      <td>171</td>\n      <td>80</td>\n      <td>34</td>\n      <td>23</td>\n      <td>43.509726</td>\n      <td>1.213191</td>\n      <td>21</td>\n      <td>0</td>\n    </tr>\n    <tr>\n      <th>1</th>\n      <td>1147438</td>\n      <td>8</td>\n      <td>92</td>\n      <td>93</td>\n      <td>47</td>\n      <td>36</td>\n      <td>21.240576</td>\n      <td>0.158365</td>\n      <td>23</td>\n      <td>0</td>\n    </tr>\n    <tr>\n      <th>2</th>\n      <td>1640031</td>\n      <td>7</td>\n      <td>115</td>\n      <td>47</td>\n      <td>52</td>\n      <td>35</td>\n      <td>41.511523</td>\n      <td>0.079019</td>\n      <td>23</td>\n      <td>0</td>\n    </tr>\n    <tr>\n      <th>3</th>\n      <td>1883350</td>\n      <td>9</td>\n      <td>103</td>\n      <td>78</td>\n      <td>25</td>\n      <td>304</td>\n      <td>29.582192</td>\n      <td>1.282870</td>\n      <td>43</td>\n      <td>1</td>\n    </tr>\n    <tr>\n      <th>4</th>\n      <td>1424119</td>\n      <td>1</td>\n      <td>85</td>\n      <td>59</td>\n      <td>27</td>\n      <td>35</td>\n      <td>42.604536</td>\n      <td>0.549542</td>\n      <td>22</td>\n      <td>0</td>\n    </tr>\n  </tbody>\n</table>\n</div>"
     },
     "execution_count": 2,
     "metadata": {},
     "output_type": "execute_result"
    }
   ],
   "source": [
    "diabetes = pd.read_csv('data/diabetes.csv')\n",
    "diabetes.head()"
   ],
   "metadata": {
    "collapsed": false,
    "pycharm": {
     "name": "#%%\n"
    }
   }
  },
  {
   "metadata": {},
   "cell_type": "markdown",
   "source": [
    "This data consists of diagnostic information about some patients who have been tested for diabetes. Scroll to the right if necessary, and note that the final column in the dataset (**Diabetic**) contains the value ***0*** for patients who tested negative for diabetes, and ***1*** for patients who tested positive. This is the label that we will train our mode to predict; most of the other columns (**Pregnancies**, **PlasmaGlucose**, **DiastolicBloodPressure**, and so on) are the features we will use to predict the **Diabetic** label.\n",
    "\n",
    "Let's separate the features from the labels - we'll call the features ***X*** and the label ***y***:"
   ]
  },
  {
   "metadata": {
    "trusted": true,
    "tags": []
   },
   "cell_type": "code",
   "source": [
    "features = [\n",
    "    'Pregnancies', 'PlasmaGlucose', 'DiastolicBloodPressure',\n",
    "    'TricepsThickness', 'SerumInsulin', 'BMI', 'DiabetesPedigree', 'Age'\n",
    "]\n",
    "label = 'Diabetic'\n",
    "X = diabetes[features].to_numpy()\n",
    "y = diabetes[label].to_numpy()\n",
    "\n",
    "for n in range(0,4):\n",
    "    print(\"Patient\", str(n+1))\n",
    "    print(\"  Features:\", list(X[n]))\n",
    "    print(\"  Label:\",  y[n])"
   ],
   "execution_count": 3,
   "outputs": [
    {
     "name": "stdout",
     "output_type": "stream",
     "text": [
      "Patient 1\n",
      "  Features: [0.0, 171.0, 80.0, 34.0, 23.0, 43.50972593, 1.213191354, 21.0]\n",
      "  Label: 0\n",
      "Patient 2\n",
      "  Features: [8.0, 92.0, 93.0, 47.0, 36.0, 21.24057571, 0.158364981, 23.0]\n",
      "  Label: 0\n",
      "Patient 3\n",
      "  Features: [7.0, 115.0, 47.0, 52.0, 35.0, 41.51152348, 0.079018568, 23.0]\n",
      "  Label: 0\n",
      "Patient 4\n",
      "  Features: [9.0, 103.0, 78.0, 25.0, 304.0, 29.58219193, 1.282869847, 43.0]\n",
      "  Label: 1\n"
     ]
    }
   ]
  },
  {
   "metadata": {},
   "cell_type": "markdown",
   "source": [
    "Now let's compare the feature distributions for each label value."
   ]
  },
  {
   "metadata": {
    "trusted": true,
    "scrolled": false
   },
   "cell_type": "code",
   "source": [
    "features = [\n",
    "    'Pregnancies', 'PlasmaGlucose', 'DiastolicBloodPressure',\n",
    "    'TricepsThickness', 'SerumInsulin', 'BMI', 'DiabetesPedigree', 'Age'\n",
    "]\n",
    "for col in features:\n",
    "    diabetes.boxplot(col, 'Diabetic', figsize=(6,6))\n",
    "    plt.title(col)\n",
    "plt.show()"
   ],
   "execution_count": 5,
   "outputs": [
    {
     "data": {
      "text/plain": "<Figure size 432x432 with 1 Axes>",
      "image/png": "[encoded data removed]"
     },
     "metadata": {
      "needs_background": "light"
     },
     "output_type": "display_data"
    },
    {
     "data": {
      "text/plain": "<Figure size 432x432 with 1 Axes>",
      "image/png": "[encoded data removed]"
     },
     "metadata": {
      "needs_background": "light"
     },
     "output_type": "display_data"
    },
    {
     "data": {
      "text/plain": "<Figure size 432x432 with 1 Axes>",
      "image/png": "[encoded data removed]"
     },
     "metadata": {
      "needs_background": "light"
     },
     "output_type": "display_data"
    },
    {
     "data": {
      "text/plain": "<Figure size 432x432 with 1 Axes>",
      "image/png": "[encoded data removed]"
     },
     "metadata": {
      "needs_background": "light"
     },
     "output_type": "display_data"
    },
    {
     "data": {
      "text/plain": "<Figure size 432x432 with 1 Axes>",
      "image/png": "[encoded data removed]"
     },
     "metadata": {
      "needs_background": "light"
     },
     "output_type": "display_data"
    },
    {
     "data": {
      "text/plain": "<Figure size 432x432 with 1 Axes>",
      "image/png": "[encoded data removed]"
     },
     "metadata": {
      "needs_background": "light"
     },
     "output_type": "display_data"
    },
    {
     "data": {
      "text/plain": "<Figure size 432x432 with 1 Axes>",
      "image/png": "[encoded data removed]"
     },
     "metadata": {
      "needs_background": "light"
     },
     "output_type": "display_data"
    },
    {
     "data": {
      "text/plain": "<Figure size 432x432 with 1 Axes>",
      "image/png": "[encoded data removed]"
     },
     "metadata": {
      "needs_background": "light"
     },
     "output_type": "display_data"
    }
   ]
  },
  {
   "metadata": {},
   "cell_type": "markdown",
   "source": [
    "For some of the features, there's a noticeable difference in the distribution for each label value. In particular, **Pregnancies** and **Age** show markedly different distributions for diabetic patients than for non-diabetic patients. These features may help predict whether or not a patient is diabetic.\n",
    "\n",
    "### Split the data\n",
    "\n",
    "Our dataset includes known values for the label, so we can use this to train a classifier so that it finds a statistical relationship between the features and the label value; but how will we know if our model is any good? How do we know it will predict correctly when we use it with new data that it wasn't trained with? Well, we can take advantage of the fact we have a large dataset with known label values, use only some of it to train the model, and hold back some to test the trained model - enabling us to compare the predicted labels with the already known labels in the test set.\n",
    "\n",
    "In Python, the **scikit-learn** package contains a large number of functions we can use to build a machine learning model - including a **train_test_split** function that ensures we get a statistically random split of training and test data. We'll use that to split the data into 70% for training and hold back 30% for testing."
   ]
  },
  {
   "metadata": {
    "trusted": true,
    "tags": []
   },
   "cell_type": "code",
   "source": [
    "X_train, X_test, y_train, y_test = model_selection.train_test_split(\n",
    "    X, y, test_size=0.30, random_state=0\n",
    ")\n",
    "\n",
    "print(f'Training cases: {X_train.size}')\n",
    "print(f'Test cases: {X_test.size}')"
   ],
   "execution_count": 8,
   "outputs": [
    {
     "name": "stdout",
     "output_type": "stream",
     "text": [
      "Training cases: 84000\n",
      "Test cases: 36000\n"
     ]
    }
   ]
  },
  {
   "metadata": {},
   "cell_type": "markdown",
   "source": [
    "### Train and Evaluate a Binary Classification Model\n",
    "OK, now we're ready to train our model by fitting the training features (**X_train**) to the training labels (**y_train**). There are various algorithms we can use to train the model. In this example, we'll use *Logistic Regression*, which (despite its name) is a well-established algorithm for classification. In addition to the training features and labels, we'll need to set a *regularization* parameter. This is used to counteract any bias in the sample, and help the model generalize well by avoiding *overfitting* the model to the training data.\n",
    "\n",
    "> **Note**: Parameters for machine learning algorithms are generally referred to as *hyperparameters* (to a data scientist, *parameters* are values in the data itself - *hyperparameters* are defined externally from the data!)"
   ]
  },
  {
   "metadata": {
    "trusted": true,
    "tags": []
   },
   "cell_type": "code",
   "source": [
    "reg = 0.01\n",
    "\n",
    "model = LogisticRegression(C=1/reg, solver=\"liblinear\")\n",
    "model.fit(X_train, y_train)\n",
    "print (model)"
   ],
   "execution_count": 10,
   "outputs": [
    {
     "name": "stdout",
     "output_type": "stream",
     "text": [
      "LogisticRegression(C=100.0, solver='liblinear')\n"
     ]
    }
   ]
  },
  {
   "metadata": {},
   "cell_type": "markdown",
   "source": [
    "Now we've trained the model using the training data, we can use the test data we held back to evaluate how well it predicts. Again, **scikit-learn** can help us do this. Let's start by using the model to predict labels for our test set, and compare the predicted labels to the known labels:"
   ]
  },
  {
   "metadata": {
    "trusted": true,
    "tags": []
   },
   "cell_type": "code",
   "source": [
    "predictions = model.predict(X_test)\n",
    "print('Predicted labels: ', predictions)\n",
    "print('Actual labels:    ', y_test)"
   ],
   "execution_count": 11,
   "outputs": [
    {
     "name": "stdout",
     "output_type": "stream",
     "text": [
      "Predicted labels:  [0 0 0 ... 0 1 0]\n",
      "Actual labels:     [0 0 1 ... 1 1 1]\n"
     ]
    }
   ]
  },
  {
   "metadata": {},
   "cell_type": "markdown",
   "source": [
    "The arrays of labels are too long to be displayed in the notebook output, so we can only compare a few values. Even if we printed out all of the predicted and actual labels, there are too many of them to make this a sensible way to evaluate the model. Fortunately, **scikit-learn** has a few more tricks up its sleeve, and it provides some metrics that we can use to evaluate the model.\n",
    "\n",
    "The most obvious thing you might want to do is to check the *accuracy* of the predictions - in simple terms, what proportion of the labels did the model predict correctly?"
   ]
  },
  {
   "metadata": {
    "trusted": true,
    "tags": []
   },
   "cell_type": "code",
   "source": [
    "print('Accuracy: ', metrics.accuracy_score(y_test, predictions))"
   ],
   "execution_count": 14,
   "outputs": [
    {
     "name": "stdout",
     "output_type": "stream",
     "text": [
      "Accuracy:  0.7888888888888889\n"
     ]
    }
   ]
  },
  {
   "metadata": {},
   "cell_type": "markdown",
   "source": [
    "The accuracy is returned as a decimal value - a value of 1.0 would mean that the model got 100% of the predictions right; while an accuracy of 0.0 is, well, pretty useless!\n",
    "\n",
    "Accuracy seems like a sensible metric to evaluate (and to a certain extent it is), but you need to be careful about drawing too many conclusions from the accuracy of a classifier. Remember that it's simply a measure of how many cases were predicted correctly. Suppose only 3% of the population is diabetic. You could create a classifier that always just predicts 0, and it would be 97% accurate - but not terribly helpful in identifying patients with diabetes!\n",
    "\n",
    "Fortunately, there are some other metrics that reveal a little more about how our model is performing. Scikit-Learn includes the ability to create a *classification report* that provides more insight than raw accuracy alone."
   ]
  },
  {
   "metadata": {
    "trusted": true,
    "tags": []
   },
   "cell_type": "code",
   "source": [
    "print(metrics.classification_report(y_test, predictions))"
   ],
   "execution_count": 15,
   "outputs": [
    {
     "name": "stdout",
     "output_type": "stream",
     "text": [
      "              precision    recall  f1-score   support\n",
      "\n",
      "           0       0.81      0.88      0.85      2986\n",
      "           1       0.72      0.60      0.66      1514\n",
      "\n",
      "    accuracy                           0.79      4500\n",
      "   macro avg       0.77      0.74      0.75      4500\n",
      "weighted avg       0.78      0.79      0.78      4500\n",
      "\n"
     ]
    }
   ]
  },
  {
   "source": [
    "The classification report includes the following metrics for each class  (0 and 1)\n",
    "\n",
    "> note that the header row may not line up with the values!\n",
    "\n",
    "* *Precision*: Of the predictons the model made for this class, what proportion were correct?\n",
    "* *Recall*: Out of all of the instances of this class in the test dataset, how many did the model identify?\n",
    "* *F1-Score*: An average metric that takes both precision and recall into account.\n",
    "* *Support*: How many instances of this class are there in the test dataset?\n",
    "\n",
    "The classification report also includes averages for these metrics, including a weighted average that allows for the imbalance in the number of cases of each class.\n",
    "\n",
    "Because this is a *binary* classification problem, the ***1*** class is considered *positive* and its precision and recall are particularly interesting - these in effect answer the questions:\n",
    "\n",
    "- Of all the patients the model predicted are diabetic, how many are actually diabetic?\n",
    "- Of all the ptients that are actually diabetic, how many did the model identify?\n",
    "\n",
    "You can retrieve these values on their own by using the **precision_score** and **recall_score** metrics in scikit-learn (which by default assume a binary classification model)."
   ],
   "cell_type": "markdown",
   "metadata": {}
  },
  {
   "cell_type": "code",
   "execution_count": 16,
   "metadata": {
    "tags": []
   },
   "outputs": [
    {
     "name": "stdout",
     "output_type": "stream",
     "text": [
      "Overall Precision: 0.7231012658227848\n",
      "Overall Recall: 0.6036988110964333\n"
     ]
    }
   ],
   "source": [
    "print(\"Overall Precision:\", metrics.precision_score(y_test, predictions))\n",
    "print(\"Overall Recall:\", metrics.recall_score(y_test, predictions))"
   ]
  },
  {
   "metadata": {},
   "cell_type": "markdown",
   "source": [
    "The precision and recall metrics are derived from four possible prediction outcomes:\n",
    "* *True Positives*: The predicted label and the actual label are both 1.\n",
    "* *False Positives*: The predicted label is 1, but the actual label is 0.\n",
    "* *False Negatives*: The predicted label is 0, but the actual label is 1.\n",
    "* *True Negatives*: The predicted label and the actual label are both 0.\n",
    "\n",
    "These metrics are generally tabulated for the test set and shown together as a *confusion matrix*, which takes the following form:\n",
    "\n",
    "<table style=\"border: 1px solid black;\">\n",
    "    <tr style=\"border: 1px solid black;\">\n",
    "        <td style=\"border: 1px solid black;color: black;\" bgcolor=\"lightgray\">TN</td><td style=\"border: 1px solid black;color: black;\" bgcolor=\"white\">FP</td>\n",
    "    </tr>\n",
    "    <tr style=\"border: 1px solid black;\">\n",
    "        <td style=\"border: 1px solid black;color: black;\" bgcolor=\"white\">FN</td><td style=\"border: 1px solid black;color: black;\" bgcolor=\"lightgray\">TP</td>\n",
    "    </tr>\n",
    "</table>\n",
    "\n",
    "Note that the correct (*true*) predictions form a diagonal line from top left to bottom right - these figures should be significantly higher than the *false* predictions if the model is any good.\n",
    "\n",
    "In Python, you can use the **sklearn.metrics.confusion_matrix** function to find these values for a trained classifier:"
   ]
  },
  {
   "metadata": {
    "trusted": true,
    "tags": []
   },
   "cell_type": "code",
   "source": [
    "cm = metrics.confusion_matrix(y_test, predictions)\n",
    "print (cm)"
   ],
   "execution_count": 17,
   "outputs": [
    {
     "name": "stdout",
     "output_type": "stream",
     "text": [
      "[[2636  350]\n",
      " [ 600  914]]\n"
     ]
    }
   ]
  },
  {
   "metadata": {},
   "cell_type": "markdown",
   "source": [
    "Until now, we've considered the predictions from the model as being either 1 or 0 class labels. Actually, things are a little more complex than that. Statistical machine learning algorithms, like logistic regression, are based on *probability*; so what actually gets predicted by a binary classifier is the probability that the label is true (**P(y)**) and the probability that the label is false (1 - **P(y)**). A threshold value of 0.5 is used to decide whether the predicted label is a 1 (*P(y) > 0.5*) or a 0 (*P(y) <= 0.5*). You can use the **predict_proba** method to see the probability pairs for each case:"
   ]
  },
  {
   "metadata": {
    "trusted": true,
    "tags": []
   },
   "cell_type": "code",
   "source": [
    "y_scores = model.predict_proba(X_test)\n",
    "print(y_scores)"
   ],
   "execution_count": 18,
   "outputs": [
    {
     "name": "stdout",
     "output_type": "stream",
     "text": [
      "[[0.81673901 0.18326099]\n",
      " [0.9631828  0.0368172 ]\n",
      " [0.8090146  0.1909854 ]\n",
      " ...\n",
      " [0.60687816 0.39312184]\n",
      " [0.10607349 0.89392651]\n",
      " [0.63833717 0.36166283]]\n"
     ]
    }
   ]
  },
  {
   "metadata": {},
   "cell_type": "markdown",
   "source": [
    "The decision to score a prediction as a 1 or a 0 depends on the threshold to which the predicted probabilities are compared. If we were to change the threshold, it would affect the predictions; and therefore change the metrics in the confusion matrix. A common way to evaluate a classifier is to examine the *true positive rate* (which is another name for recall) and the *false positive rate* for a range of possible thresholds. These rates are then plotted against all possible thresholds to form a chart known as a *received operator characteristic (ROC) chart*, like this:"
   ]
  },
  {
   "metadata": {
    "trusted": true
   },
   "cell_type": "code",
   "source": [
    "fpr, tpr, _ = metrics.roc_curve(y_test, y_scores[:,1])\n",
    "\n",
    "plt.figure(figsize=(6, 6))\n",
    "plt.plot([0, 1], [0, 1], 'k--')\n",
    "plt.plot(fpr, tpr)\n",
    "plt.xlabel('False Positive Rate')\n",
    "plt.ylabel('True Positive Rate')\n",
    "plt.title('ROC Curve')\n",
    "plt.show()"
   ],
   "execution_count": 19,
   "outputs": [
    {
     "data": {
      "text/plain": "<Figure size 432x432 with 1 Axes>",
      "image/png": "[encoded data removed]"
     },
     "metadata": {
      "needs_background": "light"
     },
     "output_type": "display_data"
    }
   ]
  },
  {
   "metadata": {},
   "cell_type": "markdown",
   "source": [
    "The ROC chart shows the curve of the true and false positive rates for different threshold values between 0 and 1. A perfect classifier would have a curve that goes straight up the left side and straight across the top. The diagonal line across the chart represents the probability of predicting correctly with a 50/50 random prediction; so you obviously want the curve to be higher than that (or your model is no better than simply guessing!).\n",
    "\n",
    "The area under the curve (AUC) is a value between 0 and 1 that quantifies the overall performance of the model. The closer to 1 this value is, the better the model. Once again, scikit-Learn includes a function to calculate this metric."
   ]
  },
  {
   "metadata": {
    "trusted": true,
    "tags": []
   },
   "cell_type": "code",
   "source": [
    "auc = metrics.roc_auc_score(y_test, y_scores[:,1])\n",
    "print('AUC:', auc)"
   ],
   "execution_count": 20,
   "outputs": [
    {
     "name": "stdout",
     "output_type": "stream",
     "text": [
      "AUC: 0.8568294489210326\n"
     ]
    }
   ]
  },
  {
   "metadata": {},
   "cell_type": "markdown",
   "source": [
    "### Perform preprocessing in a pipeline\n",
    "\n",
    "In this case, the ROC curve and its AUC indicate that the model performs better than a random guess which is not bad considering we performed very little preprocessing of the data.\n",
    "\n",
    "In practice, it's common to perform some preprocessing of the data to make it easier for the algorithm to fit a model to it. There's a huge range of preprocessing transformations you can perform to get your data ready for modeling, but we'll limit ourselves to a few common techniques:\n",
    "\n",
    "- Scaling numeric features so they're on the same scale. This prevents feaures with large values from producing coefficients that disproportionately affect the predictions.\n",
    "- Encoding categorical variables. For example, by using a *one hot encoding* technique you can create individual binary (true/false) features for each possible category value.\n",
    "\n",
    "To apply these preprocessing transformations, we'll make use of a Scikit-Learn feature named *pipelines*. These enable us to define a set of preprocessing steps that end with an algorithm. You can then fit the entire pipeline to the data, so that the model encapsulates all of the preprocessing steps as well as the regression algorithm. This is useful, because when we want to use the model to predict values from new data, we need to apply the same transformations (based on the same statistical distributions and catagory encodings used with the training data).\n",
    "\n",
    ">**Note**: The term *pipeline* is used extensively in machine learning, often to mean very different things! In this context, we're using it to refer to pipeline objects in Scikit-Learn, but you may see it used elsewhere to mean something else.\n"
   ]
  },
  {
   "cell_type": "code",
   "execution_count": 24,
   "metadata": {
    "tags": []
   },
   "outputs": [
    {
     "name": "stdout",
     "output_type": "stream",
     "text": [
      "Pipeline(steps=[('preprocessor',\n",
      "                 ColumnTransformer(transformers=[('num',\n",
      "                                                  Pipeline(steps=[('scaler',\n",
      "                                                                   StandardScaler())]),\n",
      "                                                  [0, 1, 2, 3, 4, 5, 6]),\n",
      "                                                 ('cat',\n",
      "                                                  Pipeline(steps=[('onehot',\n",
      "                                                                   OneHotEncoder(handle_unknown='ignore'))]),\n",
      "                                                  [7])])),\n",
      "                ('logregressor',\n",
      "                 LogisticRegression(C=100.0, solver='liblinear'))])\n"
     ]
    }
   ],
   "source": [
    "numeric_features = [0,1,2,3,4,5,6]\n",
    "numeric_transformer = Pipeline([('scaler', StandardScaler())])\n",
    "\n",
    "categorical_features = [7]\n",
    "categorical_transformer = Pipeline(\n",
    "    [('onehot', OneHotEncoder(handle_unknown='ignore'))]\n",
    ")\n",
    "\n",
    "preprocessor = ColumnTransformer([\n",
    "        ('num', numeric_transformer, numeric_features),\n",
    "        ('cat', categorical_transformer, categorical_features)\n",
    "])\n",
    "\n",
    "pipeline = Pipeline([\n",
    "        ('preprocessor', preprocessor),\n",
    "        ('logregressor', LogisticRegression(C=1/reg, solver=\"liblinear\"))\n",
    "    ])\n",
    "\n",
    "\n",
    "model = pipeline.fit(X_train, y_train)\n",
    "print (model)"
   ]
  },
  {
   "source": [
    "The pipeline encapsulates the preprocessing steps as well as model training.\n",
    "\n",
    "Let's use the model trained by this pipeline to predict labels for our test set, and compare the performance metrics with the basic model we created previously."
   ],
   "cell_type": "markdown",
   "metadata": {}
  },
  {
   "cell_type": "code",
   "execution_count": 25,
   "metadata": {
    "tags": []
   },
   "outputs": [
    {
     "name": "stdout",
     "output_type": "stream",
     "text": [
      "Confusion Matrix:\n",
      " [[2667  319]\n",
      " [ 406 1108]] \n",
      "\n",
      "Accuracy: 0.8388888888888889\n",
      "Overall Precision: 0.7764540995094604\n",
      "Overall Recall: 0.7318361955085865\n",
      "AUC:  0.8568294489210326\n"
     ]
    },
    {
     "data": {
      "text/plain": "<Figure size 432x432 with 1 Axes>",
      "image/png": "[encoded data removed]"
     },
     "metadata": {
      "needs_background": "light"
     },
     "output_type": "display_data"
    }
   ],
   "source": [
    "predictions = model.predict(X_test)\n",
    "\n",
    "cm = metrics.confusion_matrix(y_test, predictions)\n",
    "print ('Confusion Matrix:\\n',cm, '\\n')\n",
    "print('Accuracy:', metrics.accuracy_score(y_test, predictions))\n",
    "print(\"Overall Precision:\", metrics.precision_score(y_test, predictions))\n",
    "print(\"Overall Recall:\", metrics.recall_score(y_test, predictions))\n",
    "auc = metrics.roc_auc_score(y_test,y_scores[:,1])\n",
    "print('AUC: ', auc)\n",
    "\n",
    "y_scores = model.predict_proba(X_test)\n",
    "fpr, tpr, _ = metrics.roc_curve(y_test, y_scores[:,1])\n",
    "\n",
    "plt.figure(figsize=(6, 6))\n",
    "plt.plot([0, 1], [0, 1], 'k--')\n",
    "plt.plot(fpr, tpr)\n",
    "plt.xlabel('False Positive Rate')\n",
    "plt.ylabel('True Positive Rate')\n",
    "plt.title('ROC Curve')\n",
    "plt.show()"
   ]
  },
  {
   "source": [
    "The results look a little better, so clearly preprocessing the data has made a difference.\n",
    "\n",
    "### Try a different algorithm\n",
    "\n",
    "Now let's try a different algorithm. Previously we used a logistic regression algorithm, which is a *linear* algorithm. There are many kinds of classification algorithm we could try, including:\n",
    "\n",
    "- **Support Vector Machine algorithms**: Algorithms that define a *hyperplane* that separates classes.\n",
    "- **Tree-based algorithms**: Algorithms that build a decision tree to reach a prediction\n",
    "- **Ensemble algorithms**: Algorithms that combine the outputs of multiple base algorithms to improve generalizability.\n",
    "\n",
    "This time, We'll use the same preprocessing steps as before, but we'll train the model using an *ensemble* algorithm named *Random Forest* that combines the outputs of multiple random decision trees (for more details, see the [Scikit-Learn documentation](https://scikit-learn.org/stable/modules/ensemble.html#forests-of-randomized-trees))."
   ],
   "cell_type": "markdown",
   "metadata": {}
  },
  {
   "cell_type": "code",
   "execution_count": 27,
   "metadata": {
    "tags": []
   },
   "outputs": [
    {
     "name": "stdout",
     "output_type": "stream",
     "text": [
      "Pipeline(steps=[('preprocessor',\n",
      "                 ColumnTransformer(transformers=[('num',\n",
      "                                                  Pipeline(steps=[('scaler',\n",
      "                                                                   StandardScaler())]),\n",
      "                                                  [0, 1, 2, 3, 4, 5, 6]),\n",
      "                                                 ('cat',\n",
      "                                                  Pipeline(steps=[('onehot',\n",
      "                                                                   OneHotEncoder(handle_unknown='ignore'))]),\n",
      "                                                  [7])])),\n",
      "                ('logregressor', RandomForestClassifier())])\n"
     ]
    }
   ],
   "source": [
    "pipeline = Pipeline([\n",
    "    ('preprocessor', preprocessor), ('logregressor', RandomForestClassifier())\n",
    "])\n",
    "\n",
    "model = pipeline.fit(X_train, y_train)\n",
    "print (model)"
   ]
  },
  {
   "source": [
    "Let's look at the performance metrics for the new model."
   ],
   "cell_type": "markdown",
   "metadata": {}
  },
  {
   "cell_type": "code",
   "execution_count": 28,
   "metadata": {
    "tags": []
   },
   "outputs": [
    {
     "name": "stdout",
     "output_type": "stream",
     "text": [
      "Confusion Matrix:\n",
      "[[2848  138]\n",
      " [ 179 1335]]\n",
      "\n",
      "Accuracy: 0.9295555555555556\n",
      "Overall Precision: 0.9063136456211812\n",
      "Overall Recall: 0.881770145310436\n",
      "\n",
      "AUC: 0.9202442751333613\n"
     ]
    },
    {
     "data": {
      "text/plain": "<Figure size 432x432 with 1 Axes>",
      "image/png": "[encoded data removed]"
     },
     "metadata": {
      "needs_background": "light"
     },
     "output_type": "display_data"
    }
   ],
   "source": [
    "predictions = model.predict(X_test)\n",
    "cm = metrics.confusion_matrix(y_test, predictions)\n",
    "print ('Confusion Matrix:')\n",
    "print(cm)\n",
    "print()\n",
    "print('Accuracy:', metrics.accuracy_score(y_test, predictions))\n",
    "print(\"Overall Precision:\", metrics.precision_score(y_test, predictions))\n",
    "print(\"Overall Recall:\", metrics.recall_score(y_test, predictions))\n",
    "auc = metrics.roc_auc_score(y_test,y_scores[:,1])\n",
    "print()\n",
    "print('AUC:', auc)\n",
    "\n",
    "y_scores = model.predict_proba(X_test)\n",
    "fpr, tpr, _ = metrics.roc_curve(y_test, y_scores[:,1])\n",
    "\n",
    "plt.figure(figsize=(6, 6))\n",
    "plt.plot([0, 1], [0, 1], 'k--')\n",
    "plt.plot(fpr, tpr)\n",
    "plt.xlabel('False Positive Rate')\n",
    "plt.ylabel('True Positive Rate')\n",
    "plt.title('ROC Curve')\n",
    "plt.show()"
   ]
  },
  {
   "source": [
    "That looks better!\n",
    "\n",
    "### Use the Model for Inferencing\n",
    "Now that we have a reasonably useful trained model, we can save it for use later to predict labels for new data:"
   ],
   "cell_type": "markdown",
   "metadata": {}
  },
  {
   "metadata": {
    "trusted": true
   },
   "cell_type": "code",
   "source": [
    "filename = './models/diabetes_model.pkl'\n",
    "joblib.dump(model, filename)"
   ],
   "execution_count": 30,
   "outputs": [
    {
     "data": {
      "text/plain": "['./models/diabetes_model.pkl']"
     },
     "execution_count": 30,
     "metadata": {},
     "output_type": "execute_result"
    }
   ]
  },
  {
   "metadata": {},
   "cell_type": "markdown",
   "source": [
    "When we have some new observations for which the label is unknown, we can load the model and use it to predict values for the unknown label:"
   ]
  },
  {
   "metadata": {
    "trusted": true,
    "tags": []
   },
   "cell_type": "code",
   "source": [
    "model = joblib.load(filename)\n",
    "\n",
    "X_new = [[2,180,74,24,21,23.9091702,1.488172308,22]]\n",
    "print (f'New sample: {X_new[0]}')\n",
    "\n",
    "pred = model.predict(X_new)\n",
    "\n",
    "print(f'Predicted class is {pred[0]}')"
   ],
   "execution_count": 31,
   "outputs": [
    {
     "name": "stdout",
     "output_type": "stream",
     "text": [
      "New sample: [2, 180, 74, 24, 21, 23.9091702, 1.488172308, 22]\n",
      "Predicted class is 1\n"
     ]
    }
   ]
  },
  {
   "metadata": {},
   "cell_type": "markdown",
   "source": [
    "## Multiclass Classification\n",
    "\n",
    "Binary classification techniques work well when the data observations belong to one of two classes or categories, such as \"True\" or \"False\". When the data can be categorized into more than two classes, you must use a multiclass classification algorithm.\n",
    "\n",
    "Fortunately, in most machine learning frameworks, including scikit-learn, implementing a multiclass classifier is not significantly more complex than binary classification - and in many cases, the classification algorithm classes used for binary classification implicitly support multiclass classification.\n",
    "\n",
    "### Explore the data\n",
    "\n",
    "Let's start by examining a dataset that contains observations of multiple classes. We'll use a dataset that contains observations of three different species of penguin.\n",
    "\n",
    "> **Citation**: The penguins dataset used in the this exercise is a subset of data collected and made available by [Dr. Kristen\n",
    "Gorman](https://www.uaf.edu/cfos/people/faculty/detail/kristen-gorman.php)\n",
    "and the [Palmer Station, Antarctica LTER](https://pal.lternet.edu/), a\n",
    "member of the [Long Term Ecological Research\n",
    "Network](https://lternet.edu/)."
   ]
  },
  {
   "metadata": {
    "trusted": true
   },
   "cell_type": "code",
   "source": [
    "penguins = pd.read_csv('data/penguins.csv')\n",
    "\n",
    "sample = penguins.sample(10)\n",
    "sample"
   ],
   "execution_count": 32,
   "outputs": [
    {
     "data": {
      "text/plain": "     CulmenLength  CulmenDepth  FlipperLength  BodyMass  Species\n161          46.8         15.4          215.0    5150.0        1\n64           36.4         17.1          184.0    2850.0        0\n110          38.1         16.5          198.0    3825.0        0\n47           37.5         18.9          179.0    2975.0        0\n151          41.5         18.5          201.0    4000.0        0\n16           38.7         19.0          195.0    3450.0        0\n114          39.6         20.7          191.0    3900.0        0\n244          45.5         14.5          212.0    4750.0        1\n266          46.2         14.1          217.0    4375.0        1\n193          49.6         16.0          225.0    5700.0        1",
      "text/html": "<div>\n<style scoped>\n    .dataframe tbody tr th:only-of-type {\n        vertical-align: middle;\n    }\n\n    .dataframe tbody tr th {\n        vertical-align: top;\n    }\n\n    .dataframe thead th {\n        text-align: right;\n    }\n</style>\n<table border=\"1\" class=\"dataframe\">\n  <thead>\n    <tr style=\"text-align: right;\">\n      <th></th>\n      <th>CulmenLength</th>\n      <th>CulmenDepth</th>\n      <th>FlipperLength</th>\n      <th>BodyMass</th>\n      <th>Species</th>\n    </tr>\n  </thead>\n  <tbody>\n    <tr>\n      <th>161</th>\n      <td>46.8</td>\n      <td>15.4</td>\n      <td>215.0</td>\n      <td>5150.0</td>\n      <td>1</td>\n    </tr>\n    <tr>\n      <th>64</th>\n      <td>36.4</td>\n      <td>17.1</td>\n      <td>184.0</td>\n      <td>2850.0</td>\n      <td>0</td>\n    </tr>\n    <tr>\n      <th>110</th>\n      <td>38.1</td>\n      <td>16.5</td>\n      <td>198.0</td>\n      <td>3825.0</td>\n      <td>0</td>\n    </tr>\n    <tr>\n      <th>47</th>\n      <td>37.5</td>\n      <td>18.9</td>\n      <td>179.0</td>\n      <td>2975.0</td>\n      <td>0</td>\n    </tr>\n    <tr>\n      <th>151</th>\n      <td>41.5</td>\n      <td>18.5</td>\n      <td>201.0</td>\n      <td>4000.0</td>\n      <td>0</td>\n    </tr>\n    <tr>\n      <th>16</th>\n      <td>38.7</td>\n      <td>19.0</td>\n      <td>195.0</td>\n      <td>3450.0</td>\n      <td>0</td>\n    </tr>\n    <tr>\n      <th>114</th>\n      <td>39.6</td>\n      <td>20.7</td>\n      <td>191.0</td>\n      <td>3900.0</td>\n      <td>0</td>\n    </tr>\n    <tr>\n      <th>244</th>\n      <td>45.5</td>\n      <td>14.5</td>\n      <td>212.0</td>\n      <td>4750.0</td>\n      <td>1</td>\n    </tr>\n    <tr>\n      <th>266</th>\n      <td>46.2</td>\n      <td>14.1</td>\n      <td>217.0</td>\n      <td>4375.0</td>\n      <td>1</td>\n    </tr>\n    <tr>\n      <th>193</th>\n      <td>49.6</td>\n      <td>16.0</td>\n      <td>225.0</td>\n      <td>5700.0</td>\n      <td>1</td>\n    </tr>\n  </tbody>\n</table>\n</div>"
     },
     "execution_count": 32,
     "metadata": {},
     "output_type": "execute_result"
    }
   ]
  },
  {
   "metadata": {},
   "cell_type": "markdown",
   "source": [
    "The dataset contains the following columns:\n",
    "* **CulmenLength**: The length in mm of the penguin's culmen (bill).\n",
    "* **CulmenDepth**: The depth in mm of the penguin's culmen.\n",
    "* **FlipperLength**: The length in mm of the penguin's flipper.\n",
    "* **BodyMass**: The body mass of the penguin in grams.\n",
    "* **Species**: An integer value that represents the species of the penguin.\n",
    "\n",
    "The **Species** column is the label we want to train a model to predict. The dataset includes three possible species, which are encoded as 0, 1, and 2. The actual species names are revealed by the code below:"
   ]
  },
  {
   "metadata": {
    "trusted": true,
    "tags": []
   },
   "cell_type": "code",
   "source": [
    "penguin_classes = ['Amelie', 'Gentoo', 'Chinstrap']\n",
    "print(sample.columns[0:5].to_numpy(), 'SpeciesName')\n",
    "for index, row in penguins.sample(10).iterrows():\n",
    "    print(\n",
    "        '[', row[0], row[1], row[2], row[3], int(row[4]), ']',\n",
    "        penguin_classes[int(row[4])]\n",
    "    )"
   ],
   "execution_count": 33,
   "outputs": [
    {
     "name": "stdout",
     "output_type": "stream",
     "text": [
      "['CulmenLength' 'CulmenDepth' 'FlipperLength' 'BodyMass' 'Species'] SpeciesName\n",
      "[ 43.2 18.5 192.0 4100.0 0 ] Amelie\n",
      "[ 37.2 18.1 178.0 3900.0 0 ] Amelie\n",
      "[ 59.6 17.0 230.0 6050.0 1 ] Gentoo\n",
      "[ 46.5 14.4 217.0 4900.0 1 ] Gentoo\n",
      "[ 34.5 18.1 187.0 2900.0 0 ] Amelie\n",
      "[ 48.7 15.1 222.0 5350.0 1 ] Gentoo\n",
      "[ 36.7 18.8 187.0 3800.0 0 ] Amelie\n",
      "[ 38.3 19.2 189.0 3950.0 0 ] Amelie\n",
      "[ 39.7 18.4 190.0 3900.0 0 ] Amelie\n",
      "[ 54.3 15.7 231.0 5650.0 1 ] Gentoo\n"
     ]
    }
   ]
  },
  {
   "source": [
    "Now that we know what the features and labels in the data represent, let's explore the dataset. First, let's see if there are any missing (*null*) values."
   ],
   "cell_type": "markdown",
   "metadata": {}
  },
  {
   "cell_type": "code",
   "execution_count": 34,
   "metadata": {
    "tags": []
   },
   "outputs": [
    {
     "data": {
      "text/plain": "CulmenLength     2\nCulmenDepth      2\nFlipperLength    2\nBodyMass         2\nSpecies          0\ndtype: int64"
     },
     "execution_count": 34,
     "metadata": {},
     "output_type": "execute_result"
    }
   ],
   "source": [
    "penguins.isnull().sum()"
   ]
  },
  {
   "source": [
    "It looks like there are some missing feature values, but no missing labels. Let's dig a little deeper and see the rows that contain nulls."
   ],
   "cell_type": "markdown",
   "metadata": {}
  },
  {
   "cell_type": "code",
   "execution_count": 35,
   "metadata": {
    "tags": []
   },
   "outputs": [
    {
     "data": {
      "text/plain": "     CulmenLength  CulmenDepth  FlipperLength  BodyMass  Species\n3             NaN          NaN            NaN       NaN        0\n271           NaN          NaN            NaN       NaN        1",
      "text/html": "<div>\n<style scoped>\n    .dataframe tbody tr th:only-of-type {\n        vertical-align: middle;\n    }\n\n    .dataframe tbody tr th {\n        vertical-align: top;\n    }\n\n    .dataframe thead th {\n        text-align: right;\n    }\n</style>\n<table border=\"1\" class=\"dataframe\">\n  <thead>\n    <tr style=\"text-align: right;\">\n      <th></th>\n      <th>CulmenLength</th>\n      <th>CulmenDepth</th>\n      <th>FlipperLength</th>\n      <th>BodyMass</th>\n      <th>Species</th>\n    </tr>\n  </thead>\n  <tbody>\n    <tr>\n      <th>3</th>\n      <td>NaN</td>\n      <td>NaN</td>\n      <td>NaN</td>\n      <td>NaN</td>\n      <td>0</td>\n    </tr>\n    <tr>\n      <th>271</th>\n      <td>NaN</td>\n      <td>NaN</td>\n      <td>NaN</td>\n      <td>NaN</td>\n      <td>1</td>\n    </tr>\n  </tbody>\n</table>\n</div>"
     },
     "execution_count": 35,
     "metadata": {},
     "output_type": "execute_result"
    }
   ],
   "source": [
    "penguins[penguins.isnull().any(axis=1)]"
   ]
  },
  {
   "source": [
    "There are two rows that contain no feature values at all (*NaN* stands for \"not a number\"), so these won't be useful in training a model. Let's discard them from the dataset."
   ],
   "cell_type": "markdown",
   "metadata": {}
  },
  {
   "cell_type": "code",
   "execution_count": 36,
   "metadata": {},
   "outputs": [
    {
     "data": {
      "text/plain": "CulmenLength     0\nCulmenDepth      0\nFlipperLength    0\nBodyMass         0\nSpecies          0\ndtype: int64"
     },
     "execution_count": 36,
     "metadata": {},
     "output_type": "execute_result"
    }
   ],
   "source": [
    "penguins=penguins.dropna()\n",
    "penguins.isnull().sum()"
   ]
  },
  {
   "source": [
    "Now that we've dealt with the missing values, let's explore how the features relate to the label by creating some box charts."
   ],
   "cell_type": "markdown",
   "metadata": {}
  },
  {
   "cell_type": "code",
   "execution_count": 37,
   "metadata": {},
   "outputs": [
    {
     "data": {
      "text/plain": "<Figure size 432x432 with 1 Axes>",
      "image/png": "[encoded data removed]"
     },
     "metadata": {
      "needs_background": "light"
     },
     "output_type": "display_data"
    },
    {
     "data": {
      "text/plain": "<Figure size 432x432 with 1 Axes>",
      "image/png": "[encoded data removed]"
     },
     "metadata": {
      "needs_background": "light"
     },
     "output_type": "display_data"
    },
    {
     "data": {
      "text/plain": "<Figure size 432x432 with 1 Axes>",
      "image/png": "[encoded data removed]"
     },
     "metadata": {
      "needs_background": "light"
     },
     "output_type": "display_data"
    },
    {
     "data": {
      "text/plain": "<Figure size 432x432 with 1 Axes>",
      "image/png": "[encoded data removed]"
     },
     "metadata": {
      "needs_background": "light"
     },
     "output_type": "display_data"
    }
   ],
   "source": [
    "penguin_features = ['CulmenLength','CulmenDepth','FlipperLength','BodyMass']\n",
    "penguin_label = 'Species'\n",
    "for column in penguin_features:\n",
    "    penguins.boxplot(column, penguin_label, figsize=(6,6))\n",
    "    plt.title(column)\n",
    "plt.show()"
   ]
  },
  {
   "source": [
    "From the box plots, it looks like species 0 and 2 (Amelie and Chinstrap) have similar data profiles for culmen depth, flipper length, and body mass, but Chinstraps tend to have longer culmens. Species 1 (Gentoo) tends to have fairly clearly differentiated features from the others; which should help us train a good classification model.\n",
    "\n",
    "### Prepare the data\n",
    "\n",
    "Just as for binary classification, before training the model, we need to separate the features and label, and then split the data into subsets for training and validation. We'll also apply a *stratification* technique when splitting the data to maintain the proportion of each label value in the training and validation datasets."
   ],
   "cell_type": "markdown",
   "metadata": {}
  },
  {
   "cell_type": "code",
   "execution_count": 38,
   "metadata": {
    "tags": []
   },
   "outputs": [
    {
     "name": "stdout",
     "output_type": "stream",
     "text": [
      "Training Set: 956, Test Set: 412\n"
     ]
    }
   ],
   "source": [
    "penguins_X = penguins[penguin_features].to_numpy()\n",
    "penguins_y = penguins[penguin_label].to_numpy()\n",
    "\n",
    "x_penguin_train, x_penguin_test, y_penguin_train, y_penguin_test = (\n",
    "    model_selection.train_test_split(\n",
    "        penguins_X, penguins_y, test_size=0.30, random_state=0,\n",
    "        stratify=penguins_y,\n",
    "    )\n",
    ")\n",
    "\n",
    "print (f'Training Set: {x_penguin_train.size}, Test Set: {x_penguin_test.size}')"
   ]
  },
  {
   "metadata": {},
   "cell_type": "markdown",
   "source": [
    "### Train and evaluate a multiclass classifier\n",
    "\n",
    "Now that we have a set of training features and corresponding training labels, we can fit a multiclass classification algorithm to the data to create a model. Most scikit-learn classification algorithms inherently supports multiclass classification. We'll try a logistic regression algorithm."
   ]
  },
  {
   "metadata": {
    "trusted": true,
    "tags": []
   },
   "cell_type": "code",
   "source": [
    "reg = 0.1\n",
    "\n",
    "multi_model = LogisticRegression(C=1/reg, max_iter=500)\n",
    "multi_model.fit(x_penguin_train, y_penguin_train)\n",
    "print (multi_model)"
   ],
   "execution_count": 41,
   "outputs": [
    {
     "name": "stdout",
     "output_type": "stream",
     "text": [
      "LogisticRegression(C=10.0, max_iter=500)\n"
     ]
    }
   ]
  },
  {
   "metadata": {},
   "cell_type": "markdown",
   "source": [
    "Now we can use the trained model to predict the labels for the test features, and compare the predicted labels to the actual labels:"
   ]
  },
  {
   "metadata": {
    "trusted": true,
    "tags": []
   },
   "cell_type": "code",
   "source": [
    "penguin_predictions = multi_model.predict(x_penguin_test)\n",
    "print('Predicted labels: ', penguin_predictions[:15])\n",
    "print('Actual labels   : ', y_penguin_test[:15])"
   ],
   "execution_count": 42,
   "outputs": [
    {
     "name": "stdout",
     "output_type": "stream",
     "text": [
      "Predicted labels:  [0 1 0 2 2 1 1 1 0 2 2 1 2 1 2]\n",
      "Actual labels   :  [0 1 2 2 2 1 1 1 0 2 2 1 2 1 2]\n"
     ]
    }
   ]
  },
  {
   "metadata": {},
   "cell_type": "markdown",
   "source": [
    "Let's look at a classification report."
   ]
  },
  {
   "metadata": {
    "trusted": true,
    "tags": []
   },
   "cell_type": "code",
   "source": [
    "print(metrics.classification_report(y_penguin_test, penguin_predictions))"
   ],
   "execution_count": 43,
   "outputs": [
    {
     "name": "stdout",
     "output_type": "stream",
     "text": [
      "              precision    recall  f1-score   support\n",
      "\n",
      "           0       0.96      0.98      0.97        45\n",
      "           1       1.00      1.00      1.00        37\n",
      "           2       0.95      0.90      0.93        21\n",
      "\n",
      "    accuracy                           0.97       103\n",
      "   macro avg       0.97      0.96      0.96       103\n",
      "weighted avg       0.97      0.97      0.97       103\n",
      "\n"
     ]
    }
   ]
  },
  {
   "metadata": {},
   "cell_type": "markdown",
   "source": [
    "As with binary classification, the report includes *precision* and *recall* metrics for each class. However, while with binary classification we could focus on the scores for the *positive* class; in this case, there are multiple classes so we need to look at an overall metric (either the macro or weighted average) to get a sense of how well the model performs across all three classes.\n",
    "\n",
    "You can get the overall metrics separately from the report using the scikit-learn metrics score classes, but with multiclass results you must specify which average metric you want to use for precision and recall."
   ]
  },
  {
   "cell_type": "code",
   "execution_count": 44,
   "metadata": {
    "tags": []
   },
   "outputs": [
    {
     "name": "stdout",
     "output_type": "stream",
     "text": [
      "Overall Accuracy: 0.970873786407767\n",
      "Overall Precision: 0.9688405797101449\n",
      "Overall Recall: 0.9608465608465608\n"
     ]
    }
   ],
   "source": [
    "print(\n",
    "    \"Overall Accuracy:\",\n",
    "    metrics.accuracy_score(y_penguin_test, penguin_predictions)\n",
    ")\n",
    "print(\n",
    "    \"Overall Precision:\",\n",
    "    metrics.precision_score(\n",
    "        y_penguin_test, penguin_predictions, average='macro'\n",
    "    )\n",
    ")\n",
    "print(\n",
    "    \"Overall Recall:\",\n",
    "    metrics.recall_score(\n",
    "        y_penguin_test, penguin_predictions, average='macro'\n",
    "    )\n",
    ")"
   ]
  },
  {
   "source": [
    "Now let's look at the confusion matrix for our model:"
   ],
   "cell_type": "markdown",
   "metadata": {}
  },
  {
   "metadata": {
    "trusted": true,
    "tags": []
   },
   "cell_type": "code",
   "source": [
    "mcm = metrics.confusion_matrix(y_penguin_test, penguin_predictions)\n",
    "print(mcm)"
   ],
   "execution_count": 45,
   "outputs": [
    {
     "name": "stdout",
     "output_type": "stream",
     "text": [
      "[[44  0  1]\n",
      " [ 0 37  0]\n",
      " [ 2  0 19]]\n"
     ]
    }
   ]
  },
  {
   "metadata": {},
   "cell_type": "markdown",
   "source": [
    "The confusion matrix shows the intersection of predicted and actual label values for each class - in simple terms, the diagonal intersections from top-left to bottom-right indicate the number of correct predictions.\n",
    "\n",
    "When dealing with multiple classes, it's generally more intuitive to visualize this as a heat map, like this:"
   ]
  },
  {
   "metadata": {
    "trusted": true
   },
   "cell_type": "code",
   "source": [
    "plt.imshow(mcm, interpolation=\"nearest\")\n",
    "plt.colorbar()\n",
    "tick_marks = np.arange(len(penguin_classes))\n",
    "plt.xticks(tick_marks, penguin_classes, rotation=45)\n",
    "plt.yticks(tick_marks, penguin_classes)\n",
    "plt.xlabel(\"Predicted Species\")\n",
    "plt.ylabel(\"True Species\")\n",
    "plt.show()"
   ],
   "execution_count": 48,
   "outputs": [
    {
     "data": {
      "text/plain": "<Figure size 432x288 with 2 Axes>",
      "image/png": "[encoded data removed]"
     },
     "metadata": {
      "needs_background": "light"
     },
     "output_type": "display_data"
    }
   ]
  },
  {
   "source": [
    "The darker squares in the confusion matrix plot indicate high numbers of cases, and you can hopefully see a diagonal line of darker squares indicating cases where the predicted and actual label are the same.\n",
    "\n",
    "### Preprocess data in a pipeline\n",
    "\n",
    "Again, just like with binary classification, you can use a pipeline to apply preprocessing steps to the data before fitting it to an algorithm to train a model. Let's see if we can improve the penguin predictor by scaling the numeric features in a transformation steps before training. We'll also try a different algorithm (a support vector machine), just to show that we can!"
   ],
   "cell_type": "markdown",
   "metadata": {}
  },
  {
   "cell_type": "code",
   "execution_count": 51,
   "metadata": {
    "tags": []
   },
   "outputs": [
    {
     "name": "stdout",
     "output_type": "stream",
     "text": [
      "Pipeline(steps=[('preprocessor',\n",
      "                 ColumnTransformer(transformers=[('preprocess',\n",
      "                                                  Pipeline(steps=[('scaler',\n",
      "                                                                   StandardScaler())]),\n",
      "                                                  [0, 1, 2, 3])])),\n",
      "                ('regressor', SVC())])\n"
     ]
    }
   ],
   "source": [
    "feature_columns = [0,1,2,3]\n",
    "feature_transformer = Pipeline([('scaler', StandardScaler())])\n",
    "\n",
    "preprocessor = ColumnTransformer(\n",
    "    [('preprocess', feature_transformer, feature_columns)]\n",
    ")\n",
    "\n",
    "multi_model = Pipeline([('preprocessor', preprocessor), ('regressor', SVC())])\n",
    "\n",
    "multi_model.fit(x_penguin_train, y_penguin_train)\n",
    "print (multi_model)"
   ]
  },
  {
   "source": [
    "Now we can evaluate the new model."
   ],
   "cell_type": "markdown",
   "metadata": {}
  },
  {
   "cell_type": "code",
   "execution_count": 52,
   "metadata": {
    "tags": []
   },
   "outputs": [
    {
     "name": "stdout",
     "output_type": "stream",
     "text": [
      "Overall Accuracy: 0.9805825242718447\n",
      "Overall Precision: 0.9767195767195768\n",
      "Overall Recall: 0.9767195767195768\n",
      "[[44  0  1]\n",
      " [ 0 37  0]\n",
      " [ 1  0 20]]\n"
     ]
    },
    {
     "data": {
      "text/plain": "<Figure size 432x288 with 2 Axes>",
      "image/png": "[encoded data removed]"
     },
     "metadata": {
      "needs_background": "light"
     },
     "output_type": "display_data"
    }
   ],
   "source": [
    "penguin_predictions = multi_model.predict(x_penguin_test)\n",
    "\n",
    "print(\n",
    "    \"Overall Accuracy:\",\n",
    "    metrics.accuracy_score(y_penguin_test, penguin_predictions)\n",
    ")\n",
    "print(\n",
    "    \"Overall Precision:\",\n",
    "    metrics.precision_score(\n",
    "        y_penguin_test, penguin_predictions, average='macro',\n",
    "    ),\n",
    ")\n",
    "print(\n",
    "    \"Overall Recall:\",\n",
    "    metrics.recall_score(y_penguin_test, penguin_predictions, average='macro'),\n",
    ")\n",
    "\n",
    "mcm = metrics.confusion_matrix(y_penguin_test, penguin_predictions)\n",
    "print(mcm)\n",
    "plt.imshow(mcm, interpolation=\"nearest\")\n",
    "plt.colorbar()\n",
    "tick_marks = np.arange(len(penguin_classes))\n",
    "plt.xticks(tick_marks, penguin_classes, rotation=45)\n",
    "plt.yticks(tick_marks, penguin_classes)\n",
    "plt.xlabel(\"Predicted Species\")\n",
    "plt.ylabel(\"True Species\")\n",
    "plt.show()"
   ]
  },
  {
   "metadata": {},
   "cell_type": "markdown",
   "source": [
    "### Use the model with new data observations\n",
    "\n",
    "Now let's save our trained model so we can use it again later."
   ]
  },
  {
   "metadata": {
    "trusted": true
   },
   "cell_type": "code",
   "source": [
    "filename = './models/penguin_model.pkl'\n",
    "joblib.dump(multi_model, filename)"
   ],
   "execution_count": 53,
   "outputs": [
    {
     "data": {
      "text/plain": "['./models/penguin_model.pkl']"
     },
     "execution_count": 53,
     "metadata": {},
     "output_type": "execute_result"
    }
   ]
  },
  {
   "metadata": {},
   "cell_type": "markdown",
   "source": [
    "OK, so now we have a trained model. Let's use it to predict the class of a new penguin observation:"
   ]
  },
  {
   "metadata": {
    "trusted": true,
    "tags": []
   },
   "cell_type": "code",
   "source": [
    "multi_model = joblib.load(filename)\n",
    "\n",
    "x_new = [[50.4,15.3,224,5550]]\n",
    "print (f'New sample: {x_new[0]}')\n",
    "\n",
    "penguin_pred = multi_model.predict(x_new)[0]\n",
    "print('Predicted class is', penguin_classes[penguin_pred])"
   ],
   "execution_count": 54,
   "outputs": [
    {
     "name": "stdout",
     "output_type": "stream",
     "text": [
      "New sample: [50.4, 15.3, 224, 5550]\n",
      "Predicted class is Gentoo\n"
     ]
    }
   ]
  },
  {
   "metadata": {},
   "cell_type": "markdown",
   "source": [
    "You can also submit a batch of penguin observations to the model, and get back a prediction for each one."
   ]
  },
  {
   "metadata": {
    "trusted": true,
    "tags": []
   },
   "cell_type": "code",
   "source": [
    "x_new = [[49.5,18.4,195, 3600], [38.2,20.1,190,3900]]\n",
    "print (f'New sample: {x_new}')\n",
    "\n",
    "predictions = multi_model.predict(x_new)\n",
    "\n",
    "for prediction in predictions:\n",
    "    print(f'{prediction} ({penguin_classes[prediction]})')"
   ],
   "execution_count": 55,
   "outputs": [
    {
     "name": "stdout",
     "output_type": "stream",
     "text": [
      "New sample: [[49.5, 18.4, 195, 3600], [38.2, 20.1, 190, 3900]]\n",
      "2 (Chinstrap)\n",
      "0 (Amelie)\n"
     ]
    }
   ]
  },
  {
   "metadata": {},
   "cell_type": "markdown",
   "source": [
    "## Learn More\n",
    "\n",
    "Classification is one of the most common forms of machine learning, and by following the basic principles we've discussed in this notebook you should be able to train and evaluate classification models with scikit-learn. It's worth spending some time investigating classification algorithms in more depth, and a good starting point is the [Scikit-Learn documentation](https://scikit-learn.org/stable/user_guide.html)."
   ]
  }
 ],
 "metadata": {
  "language_info": {
   "mimetype": "text/x-python",
   "nbconvert_exporter": "python",
   "name": "python",
   "pygments_lexer": "ipython3",
   "version": "3.7.6-final",
   "file_extension": ".py",
   "codemirror_mode": {
    "version": 3,
    "name": "ipython"
   }
  },
  "kernelspec": {
   "name": "python3",
   "language": "python",
   "display_name": "Python 3"
  }
 },
 "nbformat": 4,
 "nbformat_minor": 2
}